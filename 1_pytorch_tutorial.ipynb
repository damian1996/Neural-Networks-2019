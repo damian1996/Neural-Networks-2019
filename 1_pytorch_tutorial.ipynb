{
  "nbformat": 4,
  "nbformat_minor": 0,
  "metadata": {
    "colab": {
      "name": "1_pytorch_tutorial.ipynb",
      "version": "0.3.2",
      "provenance": [],
      "collapsed_sections": []
    },
    "kernelspec": {
      "name": "python3",
      "display_name": "Python 3"
    },
    "accelerator": "GPU"
  },
  "cells": [
    {
      "metadata": {
        "id": "uvDm1DCXsf9q",
        "colab_type": "text"
      },
      "cell_type": "markdown",
      "source": [
        "# PyTorch Tutorial"
      ]
    },
    {
      "metadata": {
        "id": "xvFk_rXbsf9s",
        "colab_type": "text"
      },
      "cell_type": "markdown",
      "source": [
        "### I. Przypomnienie Regresji Logistycznej\n",
        "\n",
        "Regresja logistyczna to metoda **klasyfikacji**. Uczenie jest nadzorowane, więc mamy $N$ przykładów treningowych postaci $\\{(x_i, y_i): i=1 \\dots N\\}$, gdzie $y_i$ jest dyskretną etykietą dla wektora cech $x_i=[x_{i1},\\dots,x_{iD}]$.\n",
        "\n",
        "##### 1. Binarna Regresja Logistyczna\n",
        "\n",
        "By uzyskać odpowiedź modelu, dla danego wektora cech $x \\in \\mathbb{R}^D$ obliczany jest najpierw **logit** przy pomocy przekształcenia liniowego:\n",
        "\n",
        "\\begin{equation*}\n",
        "l(x; a, b) = \\ln\\left(\\frac{p(x; a, b)}{1-p(x; a, b)}\\right) = xa^T + b,\n",
        "\\end{equation*}\n",
        "\n",
        "gdzie wektor wag $a \\in \\mathbb{R}^D$ i skalar $b \\in \\mathbb{R}$ (zwany biasem) to parametry modelu. Dla uproszczenia można założyć $x = [1, x_1, \\dots, x_D]$, wtedy $a = [b, a_1, \\dots, a_D]$ i wzór się upraszcza:\n",
        "\n",
        "\\begin{equation*}\n",
        "l(x; a) = xa^T \\in \\mathbb{R}.\n",
        "\\end{equation*}\n",
        "\n",
        "Prawdopodobieństwo $0 \\leq p \\leq 1$ dla danego wektora $x$ można odtworzyć przy pomocy **funkcji logistycznej** $\\sigma(t)=\\frac{1}{1+e^{-t}}$:\n",
        "\n",
        "\n",
        "\\begin{equation*}\n",
        "p(x;a) = \\sigma(l(x;a)) = \\frac{1}{1+e^{-l(x;a)}}.\n",
        "\\end{equation*}\n",
        "\n",
        "Celem będzie maksymalizacja funkcji **log-likelihood** ([więcej](https://stats.stackexchange.com/questions/304988/understanding-the-logistic-regression-and-likelihood)), co jest tożsame z minimalizacją **entropii krzyżowej** (ang. cross entropy):\n",
        "\n",
        "\\begin{equation*}\n",
        "\\ell(X,Y; a) = \\sum_{i=1}^N y_i \\log(p(x_i;a)) + (1-y_i) \\log(1 - p(x_i;a)).\n",
        "\\end{equation*}\n",
        "\n",
        "Funkcję kosztu będziemy optymalizować gradientowo.\n",
        "\n",
        "##### 2. Wieloklasowa Regresja Logistyczna\n",
        "\n",
        "W przypadku klasyfikacji $K$-klasowej potrzebne jest stworzenie $K$ liniowych predyktorów zamiast jednego. Można łatwo tego dokonać zastępując wektor $a$ macierzą wag $A \\in \\mathbb{R}^{K \\times (D+1)}$, w której $i$-ty wiersz odpowiada $i$-temu predyktorowi:\n",
        "\n",
        "\\begin{equation}\n",
        "l(x; A) = xA^T \\in \\mathbb{R}^K.\n",
        "\\end{equation}\n",
        "\n",
        "*Uwaga: Chociaż wynik tej operacji, z matematycznego punktu widzenia, nie powinien być traktowany już jako logit (logarytm szans), to w uczeniu maszynowym zwyczajowo taki wynikowy wektor dla klasyfikacji nazywa się logitami.*\n",
        "\n",
        "Odpowiednikiem funkcji logistycznej dla przypadku wieloklasowego jest **softmax**$: \\mathbb{R}^K \\rightarrow \\mathbb{R}^K$:\n",
        "\n",
        "\\begin{equation}\n",
        "p(x;A)_i = \\operatorname{softmax}(l(x;A))_i = \\frac{e^{l(x;A)_i}}{\\sum_{k=1}^Ke^{l(x;A)_k}},\n",
        "\\end{equation}\n",
        "\n",
        "a funkcją kosztu ponownie jest **entropia krzyżowa** (minimalizujemy):\n",
        "\n",
        "\\begin{equation}\n",
        "L(X,Y; A) = \\frac{1}{N} \\sum_{i=1}^N -\\ell(x_i, y_i; A), \\\\\n",
        "-\\ell(x,y; A) = - \\sum_{i=1}^K t_i \\log(p(x;A)_i) = - \\log(\\operatorname{softmax}(l(x;A))_y),\n",
        "\\end{equation}\n",
        "\n",
        "gdzie $t$ jest wektorem one-hot ([więcej](https://medium.com/@michaeldelsole/what-is-one-hot-encoding-and-how-to-do-it-f0ae272f1179)) dla etykiety $y$."
      ]
    },
    {
      "metadata": {
        "id": "f3DzlE9_sf9u",
        "colab_type": "text"
      },
      "cell_type": "markdown",
      "source": [
        "### II. Implementacja w Numpy\n",
        "\n",
        "W ramach przypomnienia biblioteki Numpy do uzupełnienia będzie kod wieloklasowej regresji logistycznej. Do aktualizacji wag metodą spadku gradientu potrzebne będą pochodne implementowanych funkcji, podane poniżej.\n",
        "\n",
        "\n",
        "##### 1. Pochodne\n",
        "\n",
        "Funkcja kosztu względem logitów ([przykładowe wyprowadzenie](https://deepnotes.io/softmax-crossentropy)):\n",
        "\n",
        "\\begin{equation}\n",
        "\\frac{\\partial -\\ell}{\\partial l_i} = \\operatorname{softmax}(l)_i - t_i.\n",
        "\\end{equation}\n",
        "\n",
        "Pochodna predyktora liniowego:\n",
        "\n",
        "\\begin{equation}\n",
        "\\frac{\\partial l_i}{\\partial a_{ij}} = x_j, \\quad \\forall k \\neq i: \\frac{\\partial l_i}{\\partial a_{kj}} = 0.\n",
        "\\end{equation}\n",
        "\n",
        "Pochodna kosztu po wagach:\n",
        "\n",
        "\\begin{equation}\n",
        "\\frac{\\partial -\\ell}{\\partial a_{ij}} = \\sum_{k=1}^K \\frac{\\partial -\\ell}{\\partial l_k} \\frac{\\partial l_k}{\\partial a_{ij}} = \\frac{\\partial -\\ell}{\\partial l_i} \\frac{\\partial l_i}{\\partial a_{ij}} = (\\operatorname{softmax}(l)_i - t_i) \\cdot x_j.\n",
        "\\\\\n",
        "\\frac{\\partial L}{\\partial a_{ij}} = \\frac{1}{N} \\sum_{i=1}^N \\frac{\\partial -\\ell(x_i)}{\\partial a_{ij}}\n",
        "\\end{equation}\n",
        "\n",
        "##### 2. Implementacja\n",
        "\n",
        "Należy uzupełnić kod w oznaczonych miejscach tak, aby powstał model regresji logistycznej optymalizowanej metodą spadku gradientu. Do treningu będziemy używać pomniejszonego 10-krotnie zbioru MNIST. Zbiór zawiera obrazy 28x28 ręcznie pisanych cyfr (widoczne poniżej). Wejściem do modelu będzie wektor kolejnych 784 pikseli obrazów i dodatkowa wartość 1 odpowiedzialna za bias."
      ]
    },
    {
      "metadata": {
        "id": "L9_QbSwasf9v",
        "colab_type": "code",
        "outputId": "88abe631-458f-4531-900e-987b30c12697",
        "colab": {
          "base_uri": "https://localhost:8080/",
          "height": 190
        }
      },
      "cell_type": "code",
      "source": [
        "# Import MNIST dataset\n",
        "\n",
        "import numpy as np\n",
        "import matplotlib.pyplot as plt\n",
        "from tqdm import tqdm\n",
        "import os\n",
        "\n",
        "from google.colab import drive\n",
        "drive.mount('/content/gdrive', force_remount=True)\n",
        "\n",
        "path_to_folder = '/content/gdrive/My Drive/'\n",
        "\n",
        "%matplotlib inline\n",
        "\n",
        "def load_dataset(dataset_name):\n",
        "    path = os.path.join(path_to_folder, 'data/{}/{}.npz'.format(dataset_name.upper(), dataset_name))\n",
        "    #data = np.load('data/{}/{}.npz'.format(dataset_name.upper(), dataset_name))\n",
        "    data = np.load(path)\n",
        "    return data['X_train'], data['y_train'], data['X_test'], data['y_test']\n",
        "\n",
        "X_train, y_train, X_test, y_test = load_dataset('mini_mnist')\n",
        "\n",
        "f, ax = plt.subplots(1, 10, sharex='col', sharey='row',figsize=(18, 16))\n",
        "for a in ax:\n",
        "    a.imshow(X_train[np.random.randint(X_train.shape[0])].reshape(28, 28), cmap='gray')\n",
        "plt.show()\n",
        "\n",
        "X_train = np.c_[np.ones(X_train.shape[0]), X_train]\n",
        "X_test = np.c_[np.ones(X_test.shape[0]), X_test]\n",
        "print(\"train data shape: {}, test data shape: {}\".format(X_train.shape, X_test.shape))"
      ],
      "execution_count": 266,
      "outputs": [
        {
          "output_type": "stream",
          "text": [
            "Mounted at /content/gdrive\n"
          ],
          "name": "stdout"
        },
        {
          "output_type": "display_data",
          "data": {
            "image/png": "[encoded data removed]",
            "text/plain": [
              "<Figure size 1296x1152 with 10 Axes>"
            ]
          },
          "metadata": {
            "tags": []
          }
        },
        {
          "output_type": "stream",
          "text": [
            "train data shape: (5000, 785), test data shape: (1000, 785)\n"
          ],
          "name": "stdout"
        }
      ]
    },
    {
      "metadata": {
        "id": "a8EsAoDLsf95",
        "colab_type": "code",
        "colab": {}
      },
      "cell_type": "code",
      "source": [
        "def np_linear(x, a):\n",
        "    '''\n",
        "    Calculate l(x;a) in BxK\n",
        "    \n",
        "    :param x: Bx(D+1) input data\n",
        "    :param a: Kx(D+1) weight matrix\n",
        "    '''\n",
        "    return np.dot(x, a.T)\n",
        "    \n",
        "\n",
        "def np_softmax(l):\n",
        "    '''\n",
        "    Calculate p(l) in BxK\n",
        "    \n",
        "    :param l: BxK logits\n",
        "    '''\n",
        "    after_exp = np.exp(l)\n",
        "    return np.divide(after_exp, np.sum(after_exp, axis=1).reshape(-1,1))\n",
        "\n",
        "\n",
        "def np_cross_entropy(p, y):\n",
        "    '''\n",
        "    Calculate L(p,y)\n",
        "    \n",
        "    :param p: BxK predictions\n",
        "    :param y: B true labels\n",
        "    '''\n",
        "    B = y.shape[0]\n",
        "    return np.divide(np.sum(-np.log(p[range(B),y])), B) \n",
        "    \n",
        "\n",
        "def np_cross_entropy_grad(p, y, x):\n",
        "    '''\n",
        "    Calculate dL/da in Kx(D+1)\n",
        "    \n",
        "    :param p: BxK predictions\n",
        "    :param y: B true labels\n",
        "    :param x: Bx(D+1) input data\n",
        "    '''\n",
        "    B = y.shape[0]\n",
        "    p[range(B),y] -= 1\n",
        "    return np.divide(np.dot(p.T, x), B)\n",
        "\n",
        "class NumpyLogisticRegression:\n",
        "        \n",
        "    def __init__(self, n_classes, n_epochs, input_size, learning_rate=0.1, batch_size=256):\n",
        "        self.A = np.zeros((n_classes, input_size))\n",
        "        self.learning_rate = learning_rate\n",
        "        self.batch_size = batch_size\n",
        "        self.input_size = input_size\n",
        "        self.n_classes = n_classes\n",
        "        self.n_epochs = n_epochs\n",
        "    \n",
        "    def forward(self, x):\n",
        "        return np_softmax(np_linear(x, self.A))\n",
        "        # return model predictions\n",
        "    \n",
        "    def train(self, X, Y, X_test=None, y_test=None):\n",
        "        loss, train_accuracy, test_accuracy = [], [], []\n",
        "        \n",
        "        for e in tqdm(range(self.n_epochs)):\n",
        "            \n",
        "            perm = np.random.permutation(len(X))\n",
        "            X, Y = X[perm], Y[perm]\n",
        "            \n",
        "            for batch in range(len(X) // self.batch_size):\n",
        "                x = X[batch * self.batch_size:(batch + 1) * self.batch_size]\n",
        "                y = Y[batch * self.batch_size:(batch + 1) * self.batch_size]\n",
        "                p = self.forward(x)\n",
        "                l = np_cross_entropy(p, y)\n",
        "                loss.append(l)\n",
        "                train_accuracy.append(self.test(x, y))\n",
        "                if X_test is not None and y_test is not None:\n",
        "                    test_accuracy.append(self.test(X_test, y_test))\n",
        "                \n",
        "                grad_A = np_cross_entropy_grad(p, y, x) # calculate gradient\n",
        "                self.A -= grad_A * self.learning_rate\n",
        "                \n",
        "        return loss, train_accuracy, test_accuracy\n",
        "    \n",
        "    def test(self, X, Y):\n",
        "        p = np.argmax(self.forward(X), axis=1)\n",
        "        return np.mean(p == Y)"
      ],
      "execution_count": 0,
      "outputs": []
    },
    {
      "metadata": {
        "id": "Vu_dJo00sf99",
        "colab_type": "code",
        "outputId": "bda69703-afbf-41a9-8a71-48c1ca950c0e",
        "colab": {
          "base_uri": "https://localhost:8080/",
          "height": 223
        }
      },
      "cell_type": "code",
      "source": [
        "clf = NumpyLogisticRegression(n_classes=10, n_epochs=10, input_size=785)\n",
        "loss, train_accuracy, test_accuracy = clf.train(X_train, y_train, X_test, y_test)"
      ],
      "execution_count": 268,
      "outputs": [
        {
          "output_type": "stream",
          "text": [
            "\n",
            "  0%|          | 0/10 [00:00<?, ?it/s]\u001b[A\n",
            " 10%|█         | 1/10 [00:00<00:01,  7.81it/s]\u001b[A\n",
            " 20%|██        | 2/10 [00:00<00:01,  7.80it/s]\u001b[A\n",
            " 30%|███       | 3/10 [00:00<00:00,  7.88it/s]\u001b[A\n",
            " 40%|████      | 4/10 [00:00<00:00,  7.99it/s]\u001b[A\n",
            " 50%|█████     | 5/10 [00:00<00:00,  8.06it/s]\u001b[A\n",
            " 60%|██████    | 6/10 [00:00<00:00,  8.06it/s]\u001b[A\n",
            " 70%|███████   | 7/10 [00:00<00:00,  8.03it/s]\u001b[A\n",
            " 80%|████████  | 8/10 [00:01<00:00,  7.67it/s]\u001b[A\n",
            " 90%|█████████ | 9/10 [00:01<00:00,  7.53it/s]\u001b[A\n",
            "100%|██████████| 10/10 [00:01<00:00,  7.71it/s]\u001b[A\n",
            "\u001b[A"
          ],
          "name": "stderr"
        }
      ]
    },
    {
      "metadata": {
        "id": "gJDqv5_Msf-B",
        "colab_type": "code",
        "outputId": "74fa4d0b-d742-4bdb-ba2a-e90e5523662b",
        "colab": {
          "base_uri": "https://localhost:8080/",
          "height": 369
        }
      },
      "cell_type": "code",
      "source": [
        "def show_results(loss, train_accuracy, test_accuracy):\n",
        "    f, (ax1, ax2) = plt.subplots(1, 2, figsize=(16, 5))\n",
        "\n",
        "    ax1.set_title(\"Best test accuracy: {:.2f}%\".format(max(test_accuracy) * 100))\n",
        "    ax1.plot(train_accuracy, label='train accuracy')\n",
        "    ax1.plot(test_accuracy, label='test accuracy')\n",
        "    ax1.set_xlabel('steps')\n",
        "    ax1.set_ylabel('accuracy')\n",
        "    ax1.legend()\n",
        "\n",
        "    ax2.set_title(\"Minimal loss: {:.4f}\".format(min(loss)))\n",
        "    ax2.plot(loss)\n",
        "    ax2.set_xlabel('steps')\n",
        "    ax2.set_ylabel('loss')\n",
        "\n",
        "    plt.show()\n",
        "    \n",
        "show_results(loss, train_accuracy, test_accuracy)"
      ],
      "execution_count": 269,
      "outputs": [
        {
          "output_type": "display_data",
          "data": {
            "image/png": "[encoded data removed]",
            "text/plain": [
              "<Figure size 1152x360 with 2 Axes>"
            ]
          },
          "metadata": {
            "tags": []
          }
        }
      ]
    },
    {
      "metadata": {
        "id": "s2e6xZemsf-F",
        "colab_type": "text"
      },
      "cell_type": "markdown",
      "source": [
        "### Testy"
      ]
    },
    {
      "metadata": {
        "id": "RnLh4nR3sf-I",
        "colab_type": "code",
        "outputId": "faae8db3-0bce-4cbb-939b-e3ed4e85d393",
        "colab": {
          "base_uri": "https://localhost:8080/",
          "height": 34
        }
      },
      "cell_type": "code",
      "source": [
        "x = np.array([[1.5, -2., 9.], [6., -1.2, 4.]])\n",
        "A = np.array([\n",
        "    [1., 2., 3.],\n",
        "    [6., 5., 4.]\n",
        "])\n",
        "\n",
        "l = np.array([\n",
        "    [ 24.5,  35. ],\n",
        "    [ 15.6,  46. ]\n",
        "])\n",
        "\n",
        "p = np.array([\n",
        "    [2.75356911e-05, 9.99972464e-01],\n",
        "    [  6.27260226e-14,   1.]\n",
        "])\n",
        "\n",
        "y = np.array([0, 1])\n",
        "ce = 5.250013768\n",
        "\n",
        "assert np.allclose(np_linear(x, A), l)\n",
        "assert np.allclose(np_softmax(l), p)\n",
        "assert np.allclose(np_cross_entropy(p, y), ce)\n",
        "\n",
        "print(\"OK!\")"
      ],
      "execution_count": 270,
      "outputs": [
        {
          "output_type": "stream",
          "text": [
            "OK!\n"
          ],
          "name": "stdout"
        }
      ]
    },
    {
      "metadata": {
        "id": "gsJt7uR4sf-M",
        "colab_type": "text"
      },
      "cell_type": "markdown",
      "source": [
        "### III. Implementacja w PyTorchu\n",
        "\n",
        "##### 1. Wstęp do PyTorcha\n",
        "\n",
        "W PyTorchu odpowiednikiem Numpy'owych tablic (np.array) są tensory (torch.Tensor) - tworzy się je analogicznie i dostępne są dla nich podobne operacje."
      ]
    },
    {
      "metadata": {
        "id": "nXEN9qWTsf-O",
        "colab_type": "code",
        "outputId": "24d65265-831f-4dab-b2f6-334442ba814a",
        "colab": {
          "base_uri": "https://localhost:8080/",
          "height": 257
        }
      },
      "cell_type": "code",
      "source": [
        "import torch\n",
        "\n",
        "# wartości można podać bezpośrednio do tensora\n",
        "a = torch.Tensor([[1, 2], [3, 4]])  \n",
        "print(a)\n",
        "\n",
        "# tensor wypełniony jedynkami o wymiarach 2x2\n",
        "b = torch.ones((2, 2))  \n",
        "print(b)\n",
        "\n",
        "# macierz identycznościowa 7x7\n",
        "c = torch.eye(7, 7)\n",
        "print(c)\n",
        "\n",
        "# tensor wypełniony losowymi wartościami N(0,1) o wymiarach 2x1x2\n",
        "d = torch.randn((2, 1, 2))  \n",
        "print(d)"
      ],
      "execution_count": 271,
      "outputs": [
        {
          "output_type": "stream",
          "text": [
            "tensor([[1., 2.],\n",
            "        [3., 4.]])\n",
            "tensor([[1., 1.],\n",
            "        [1., 1.]])\n",
            "tensor([[1., 0., 0., 0., 0., 0., 0.],\n",
            "        [0., 1., 0., 0., 0., 0., 0.],\n",
            "        [0., 0., 1., 0., 0., 0., 0.],\n",
            "        [0., 0., 0., 1., 0., 0., 0.],\n",
            "        [0., 0., 0., 0., 1., 0., 0.],\n",
            "        [0., 0., 0., 0., 0., 1., 0.],\n",
            "        [0., 0., 0., 0., 0., 0., 1.]])\n",
            "tensor([[[-0.0493, -1.0750]],\n",
            "\n",
            "        [[ 1.8323, -0.1066]]])\n"
          ],
          "name": "stdout"
        }
      ]
    },
    {
      "metadata": {
        "id": "2PPonIeFsf-T",
        "colab_type": "code",
        "outputId": "5bb6ab76-5d38-4799-c341-6049a6fa912e",
        "colab": {
          "base_uri": "https://localhost:8080/",
          "height": 68
        }
      },
      "cell_type": "code",
      "source": [
        "# Broadcasting działa podobnie jak w Numpy\n",
        "# a ma wymiar 2x2, d ma wymiar 2x1x2, więc wynik będzie miał wymiar 2x2x2\n",
        "print((a + d).size()) \n",
        "\n",
        "# Działania mają swoje odpowiedniki \"w miejscu\" oznaczone znakiem \"_\" na końcu nazwy metody\n",
        "# Uwaga: w tym przypadku broadcasting nie może zmieniać wymiaru tensora!\n",
        "# a = a + b\n",
        "a.add_(b)  \n",
        "print(a)"
      ],
      "execution_count": 272,
      "outputs": [
        {
          "output_type": "stream",
          "text": [
            "torch.Size([2, 2, 2])\n",
            "tensor([[2., 3.],\n",
            "        [4., 5.]])\n"
          ],
          "name": "stdout"
        }
      ]
    },
    {
      "metadata": {
        "id": "V4Bwzjgisf-c",
        "colab_type": "code",
        "outputId": "b2b7315c-62a5-46b2-abf8-3d6f81b22884",
        "colab": {
          "base_uri": "https://localhost:8080/",
          "height": 120
        }
      },
      "cell_type": "code",
      "source": [
        "# Istnieją odpowiedniki funkcji z Numpy, np.\n",
        "print(torch.log(a))        # odpowiednik np.log\n",
        "print(torch.matmul(a, b))  # odpowiednik np.matmul, również w formie skróconej torch.mm\n",
        "print(torch.sum(a))        # odpowiednik np.sum\n",
        "print(a.view(1, 1, 4))     # odpowiednik x.reshape(1, 1, 4)"
      ],
      "execution_count": 273,
      "outputs": [
        {
          "output_type": "stream",
          "text": [
            "tensor([[0.6931, 1.0986],\n",
            "        [1.3863, 1.6094]])\n",
            "tensor([[5., 5.],\n",
            "        [9., 9.]])\n",
            "tensor(14.)\n",
            "tensor([[[2., 3., 4., 5.]]])\n"
          ],
          "name": "stdout"
        }
      ]
    },
    {
      "metadata": {
        "id": "75oyQp4Psf-j",
        "colab_type": "code",
        "outputId": "91e0c831-36cf-48a6-ade1-32e9291c4df0",
        "colab": {
          "base_uri": "https://localhost:8080/",
          "height": 120
        }
      },
      "cell_type": "code",
      "source": [
        "# Tensory mogą mieć różne typy, zaznacza się urządzenie (CPU/GPU) tensora\n",
        "print(torch.Tensor([1]))             # tensor domyślnego typu torch.float\n",
        "print(torch.FloatTensor([1]))        # tensor typu torch.float\n",
        "print(torch.cuda.DoubleTensor([1]))  # tensor typu torch.double na GPU\n",
        "print(torch.cuda.LongTensor([1]))    # tensor typu torch.long na GPU\n",
        "\n",
        "# Tensory mogą być też tworzone konstruktorem torch.tensor\n",
        "print(torch.tensor([1], device='cuda', dtype=torch.float))\n",
        "\n",
        "# Zmienne modelu, dla których ma być liczony gradient, oznacza się parametrem requires_grad\n",
        "print(torch.tensor([1.], requires_grad=True))"
      ],
      "execution_count": 274,
      "outputs": [
        {
          "output_type": "stream",
          "text": [
            "tensor([1.])\n",
            "tensor([1.])\n",
            "tensor([1.], device='cuda:0', dtype=torch.float64)\n",
            "tensor([1], device='cuda:0')\n",
            "tensor([1.], device='cuda:0')\n",
            "tensor([1.], requires_grad=True)\n"
          ],
          "name": "stdout"
        }
      ]
    },
    {
      "metadata": {
        "id": "bFE2pl2esf-n",
        "colab_type": "text"
      },
      "cell_type": "markdown",
      "source": [
        "##### 2. Implementacja Regresji Logistycznej w PyTorchu\n",
        "\n",
        "Należy uzupełnić kod analogicznie do modelu Numpy."
      ]
    },
    {
      "metadata": {
        "id": "pmdAcGsBsf-p",
        "colab_type": "code",
        "colab": {}
      },
      "cell_type": "code",
      "source": [
        "device = torch.device(\"cuda\" if torch.cuda.is_available() else \"cpu\")"
      ],
      "execution_count": 0,
      "outputs": []
    },
    {
      "metadata": {
        "id": "Nz1nNDwgsf-t",
        "colab_type": "code",
        "colab": {}
      },
      "cell_type": "code",
      "source": [
        "X_train = torch.tensor(X_train, dtype=torch.float, device=device)\n",
        "X_test = torch.tensor(X_test, dtype=torch.float, device=device)\n",
        "y_train = torch.tensor(y_train, dtype=torch.long, device=device)\n",
        "y_test = torch.tensor(y_test, dtype=torch.long, device=device)"
      ],
      "execution_count": 0,
      "outputs": []
    },
    {
      "metadata": {
        "id": "hDeNNh6Usf-x",
        "colab_type": "code",
        "colab": {}
      },
      "cell_type": "code",
      "source": [
        "def t_linear(x, a):\n",
        "    return torch.matmul(x, torch.transpose(a, 0, 1))\n",
        "    '''\n",
        "    Calculate l(x;a) in BxK\n",
        "    \n",
        "    :param x: Bx(D+1) input data\n",
        "    :param a: Kx(D+1) weight matrix\n",
        "    '''\n",
        "    \n",
        "def t_softmax(l):\n",
        "    after_exp = torch.exp(l)\n",
        "    return torch.div(after_exp, torch.sum(after_exp, dim=1).view(-1,1))\n",
        "    '''\n",
        "    Calculate p(l) in BxK\n",
        "    \n",
        "    :param l: BxK logits\n",
        "    '''\n",
        "\n",
        "def t_cross_entropy(p, y):\n",
        "    col = p.gather(1, y.view(-1,1)).view(p.shape[0])\n",
        "    return -torch.sum(torch.log(col)) / p.shape[0]\n",
        "    '''\n",
        "    Calculate L(p,y)\n",
        "    \n",
        "    :param p: BxK predictions\n",
        "    :param y: B true labels\n",
        "    '''\n",
        "\n",
        "class TorchLogisticRegression:\n",
        "    \n",
        "    def __init__(self, n_classes, n_epochs, input_size, learning_rate=0.1, batch_size=256):\n",
        "        self.A = torch.zeros((n_classes, input_size), requires_grad=True, device=device)\n",
        "        self.learning_rate = learning_rate\n",
        "        self.batch_size = batch_size\n",
        "        self.input_size = input_size\n",
        "        self.n_classes = n_classes\n",
        "        self.n_epochs = n_epochs\n",
        "        print(batch_size, n_classes)\n",
        "    \n",
        "    def forward(self, x):\n",
        "        return t_softmax(t_linear(x, self.A))\n",
        "    \n",
        "    def train(self, X, Y, X_test=None, y_test=None):\n",
        "        loss, train_accuracy, test_accuracy = [], [], []\n",
        "        \n",
        "        for e in tqdm(range(self.n_epochs)):\n",
        "            \n",
        "            perm = torch.randperm(len(X))\n",
        "            X, Y, = X[perm], Y[perm]\n",
        "            \n",
        "            for batch in range(len(X) // self.batch_size):\n",
        "                x = X[batch * self.batch_size:(batch + 1) * self.batch_size]\n",
        "                y = Y[batch * self.batch_size:(batch + 1) * self.batch_size]\n",
        "                \n",
        "                p = self.forward(x)\n",
        "                l = t_cross_entropy(p, y)\n",
        "                loss.append(l)\n",
        "                train_accuracy.append(self.test(x, y))\n",
        "                if X_test is not None and y_test is not None:\n",
        "                    test_accuracy.append(self.test(X_test, y_test))\n",
        "                \n",
        "                # run backward from the loss\n",
        "                l.backward()\n",
        "                grad_A = self.A.grad # calculate gradient\n",
        "                self.A.data -= grad_A * self.learning_rate\n",
        "                # zero gradients after calculations\n",
        "                self.A.grad.data.zero_()\n",
        "                \n",
        "        return loss, train_accuracy, test_accuracy\n",
        "    \n",
        "    def test(self, X, Y):\n",
        "        p = torch.argmax(self.forward(X), dim=1)\n",
        "        return torch.mean((p == Y).float())"
      ],
      "execution_count": 0,
      "outputs": []
    },
    {
      "metadata": {
        "id": "oBcZS6Hmsf-1",
        "colab_type": "code",
        "outputId": "0e6f00ee-be6e-4350-c51a-982d14c43e84",
        "colab": {
          "base_uri": "https://localhost:8080/",
          "height": 120
        }
      },
      "cell_type": "code",
      "source": [
        "clf = TorchLogisticRegression(n_classes=10, n_epochs=10, input_size=785)\n",
        "loss, train_accuracy, test_accuracy = clf.train(X_train, y_train, X_test, y_test)"
      ],
      "execution_count": 278,
      "outputs": [
        {
          "output_type": "stream",
          "text": [
            "\n",
            "  0%|          | 0/10 [00:00<?, ?it/s]\u001b[A\n",
            " 40%|████      | 4/10 [00:00<00:00, 31.38it/s]\u001b[A"
          ],
          "name": "stderr"
        },
        {
          "output_type": "stream",
          "text": [
            "256 10\n"
          ],
          "name": "stdout"
        },
        {
          "output_type": "stream",
          "text": [
            "\n",
            " 70%|███████   | 7/10 [00:00<00:00, 30.39it/s]\u001b[A\n",
            "100%|██████████| 10/10 [00:00<00:00, 29.90it/s]\u001b[A"
          ],
          "name": "stderr"
        }
      ]
    },
    {
      "metadata": {
        "id": "Nr8m8-hgsf-5",
        "colab_type": "code",
        "outputId": "299e242b-0ac2-4b2a-c117-3978ba59be58",
        "colab": {
          "base_uri": "https://localhost:8080/",
          "height": 369
        }
      },
      "cell_type": "code",
      "source": [
        "show_results(loss, train_accuracy, test_accuracy)"
      ],
      "execution_count": 279,
      "outputs": [
        {
          "output_type": "display_data",
          "data": {
            "image/png": "[encoded data removed]",
            "text/plain": [
              "<Figure size 1152x360 with 2 Axes>"
            ]
          },
          "metadata": {
            "tags": []
          }
        }
      ]
    },
    {
      "metadata": {
        "id": "gAVkBo1fsf-9",
        "colab_type": "text"
      },
      "cell_type": "markdown",
      "source": [
        "### Testy"
      ]
    },
    {
      "metadata": {
        "id": "9kVPNhLhsf--",
        "colab_type": "code",
        "outputId": "034281c1-904a-4686-f815-1b65ab837d78",
        "colab": {
          "base_uri": "https://localhost:8080/",
          "height": 34
        }
      },
      "cell_type": "code",
      "source": [
        "tx = torch.Tensor([[1.5, -2., 9.], [6., -1.2, 4.]])\n",
        "tA = torch.tensor([\n",
        "    [1., 2., 3.],\n",
        "    [6., 5., 4.]\n",
        "], requires_grad=True, dtype=torch.float)\n",
        "tl = torch.Tensor([\n",
        "    [ 24.5,  35. ],\n",
        "    [ 15.6,  46. ]\n",
        "])\n",
        "tp = torch.Tensor([\n",
        "    [2.75356911e-05, 9.99972464e-01],\n",
        "    [  6.27260226e-14,   1.]\n",
        "])\n",
        "ty = torch.LongTensor([0, 1])\n",
        "\n",
        "assert torch.allclose(t_linear(tx, tA), tl)\n",
        "assert torch.allclose(t_softmax(tl), torch.softmax(tl, dim=1))\n",
        "assert torch.allclose(t_cross_entropy(tp, ty), torch.nn.CrossEntropyLoss()(tl, ty))\n",
        "\n",
        "print(\"OK!\")"
      ],
      "execution_count": 280,
      "outputs": [
        {
          "output_type": "stream",
          "text": [
            "OK!\n"
          ],
          "name": "stdout"
        }
      ]
    },
    {
      "metadata": {
        "id": "g9dsAQA0sf_E",
        "colab_type": "text"
      },
      "cell_type": "markdown",
      "source": [
        "### Oczekiwania od Rozwiązania\n",
        "\n",
        "- Wykresy dla obu modeli (implementowanego w Numpy i PyTorchu) dają sensowe wykresy.\n",
        " - Przez sensowny wykres rozumiem, że funkcja kosztu maleje i wypłaszcza się, a dokładność wzrasta.\n",
        " - Wykresy dla obu modeli są podobne (modele powinny z założenia liczyć to samo z dokładnością do permutacji danych treningowych).\n",
        " - Dla domyślnych parametrów batch size i learning rate model powinien osiągać dokładność powyżej 86%.\n",
        "- Zaimplementowane funkcje przechodzą wszystkie załączone testy.\n",
        "- (opcjonalnie) Implementowane funkcje w Numpy powinny zawierać jak najmniej pętli ze względów wydajnościowych."
      ]
    }
  ]
}