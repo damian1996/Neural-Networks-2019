{
  "nbformat": 4,
  "nbformat_minor": 0,
  "metadata": {
    "colab": {
      "name": "6_RNNs.ipynb",
      "version": "0.3.2",
      "provenance": [],
      "collapsed_sections": []
    },
    "language_info": {
      "codemirror_mode": {
        "name": "ipython",
        "version": 3
      },
      "file_extension": ".py",
      "mimetype": "text/x-python",
      "name": "python",
      "nbconvert_exporter": "python",
      "pygments_lexer": "ipython3",
      "version": "3.7.2"
    },
    "kernelspec": {
      "display_name": "Python 3",
      "language": "python",
      "name": "python3"
    }
  },
  "cells": [
    {
      "metadata": {
        "id": "HX5FvAGMcuM8",
        "colab_type": "text"
      },
      "cell_type": "markdown",
      "source": [
        "# Lab 6. RNN\n",
        "### Importy"
      ]
    },
    {
      "metadata": {
        "id": "-4lscznLcuM-",
        "colab_type": "code",
        "colab": {}
      },
      "cell_type": "code",
      "source": [
        "%matplotlib inline\n",
        "\n",
        "# imports \n",
        "import torch\n",
        "from torch import nn\n",
        "from torch.nn.functional import cross_entropy\n",
        "\n",
        "from torchvision.datasets import MNIST\n",
        "from torchvision.transforms import ToTensor, Lambda, Compose\n",
        "\n",
        "import numpy as np\n",
        "import matplotlib.pyplot as plt \n",
        "from typing import Tuple, Optional"
      ],
      "execution_count": 0,
      "outputs": []
    },
    {
      "metadata": {
        "id": "HspHYfI-cuND",
        "colab_type": "text"
      },
      "cell_type": "markdown",
      "source": [
        "### Ładowanie danych\n",
        "Na tych zajęciach będziemy traktować cyfry z MNISTa jako dane sekwencyjne, gdzie w danym kroku czasowym $T$ obserwujemy $T$-ty wiersz pikseli z cyfry."
      ]
    },
    {
      "metadata": {
        "id": "lP6JpqyYcuNE",
        "colab_type": "code",
        "colab": {}
      },
      "cell_type": "code",
      "source": [
        "transforms = Compose([ToTensor(), Lambda(lambda x: x.reshape(28, 28))])\n",
        "\n",
        "train_data = MNIST(root='.', train=True, transform=transforms, download=True)\n",
        "test_data = MNIST(root='.', train=False, transform=transforms)"
      ],
      "execution_count": 0,
      "outputs": []
    },
    {
      "metadata": {
        "id": "eQJo0Eg6cuNI",
        "colab_type": "text"
      },
      "cell_type": "markdown",
      "source": [
        "## Zadanie 1.\n",
        "\n",
        "Zaimplementuj \"zwykłą\" sieć rekurencyjną. \n",
        "![rnn](utils/rnn.png)\n",
        "\n",
        "* W klasie `RNN` należy zainicjalizować potrzebne wagi oraz zaimplementować główną logikę dla pojedynczej chwili czasowej $x_t$\n",
        "* Wyjście z sieci możemy mieć dowolny rozmiar, potrzebna jest również warstwa przekształcająca stan ukryty na wyjście.\n",
        "* W pętli uczenia należy dodać odpowiednie wywołanie sieci. HINT: pamiętać o iterowaniu po wymiarze \"czasowym\".\n"
      ]
    },
    {
      "metadata": {
        "id": "RXXuRwxVcuNJ",
        "colab_type": "code",
        "colab": {}
      },
      "cell_type": "code",
      "source": [
        "class RNN(nn.Module):\n",
        "    \n",
        "    def __init__(self, \n",
        "                 input_size: int,\n",
        "                 hidden_size: int, \n",
        "                 output_size: int):\n",
        "        super(RNN, self).__init__()\n",
        "        self.hidden_size = hidden_size\n",
        "        \n",
        "        self.input_to_hidden = torch.nn.Linear(input_size, hidden_size)\n",
        "        self.hidden_to_hidden = torch.nn.Linear(hidden_size, hidden_size)\n",
        "        self.hidden_to_output = torch.nn.Linear(hidden_size, output_size)\n",
        "        self.tanh = torch.nn.Tanh()\n",
        "    \n",
        "    def forward(self, \n",
        "                input: torch.tensor, \n",
        "                hidden: torch.tensor) -> Tuple[torch.tensor, torch.tensor]:\n",
        "\n",
        "        hidden = torch.tanh(self.input_to_hidden(input) + self.hidden_to_hidden(hidden))\n",
        "        hidden.retain_grad()\n",
        "        output = self.hidden_to_output(hidden)\n",
        "        \n",
        "        return output, hidden\n",
        "    \n",
        "    def init_hidden(self, batch_size: int) -> torch.Tensor:\n",
        "        return torch.zeros(batch_size, self.hidden_size, requires_grad=True)"
      ],
      "execution_count": 0,
      "outputs": []
    },
    {
      "metadata": {
        "id": "YTuHB5whcuNM",
        "colab_type": "text"
      },
      "cell_type": "markdown",
      "source": [
        "### Pętla uczenia"
      ]
    },
    {
      "metadata": {
        "scrolled": false,
        "id": "CimBJ-HZcuNN",
        "colab_type": "code",
        "colab": {
          "base_uri": "https://localhost:8080/",
          "height": 254
        },
        "outputId": "f08e3961-725a-43ea-8b01-bc29a3f47c0e"
      },
      "cell_type": "code",
      "source": [
        "torch.manual_seed(1337)\n",
        "\n",
        "batch_size = 50\n",
        "\n",
        "# build data loaders\n",
        "train_loader = torch.utils.data.DataLoader(dataset=train_data, batch_size=batch_size, shuffle=True)\n",
        "test_loader = torch.utils.data.DataLoader(dataset=test_data, batch_size=batch_size, shuffle=False)\n",
        "\n",
        "# initialize network and optimizer\n",
        "rnn = RNN(28, 64, 10)\n",
        "optimizer = torch.optim.Adam(rnn.parameters(), lr=0.01)   \n",
        "\n",
        "# we will train for only a single epoch \n",
        "epochs = 1\n",
        "\n",
        "# main loop\n",
        "for epoch in range(epochs):    \n",
        "    grads = []\n",
        "    for i, (x, y) in enumerate(train_loader):  \n",
        "        optimizer.zero_grad()\n",
        "        # get initial hidden state\n",
        "        hidden = rnn.init_hidden(x.shape[0])\n",
        "        \n",
        "        # get output for the sample, remember that we treat it as a sequence\n",
        "        # so you need to iterate over the 2nd, time dimensiotn\n",
        "        \n",
        "        hiddens = []\n",
        "        seq_len = x.shape[1]\n",
        "        for t in range(seq_len):\n",
        "            output, hidden = rnn(x[:,t,:], hidden)\n",
        "            hiddens.append(hidden)\n",
        "\n",
        "        loss = cross_entropy(output, y)\n",
        "        loss.backward()\n",
        "        optimizer.step()  \n",
        "        \n",
        "        grads.append([np.linalg.norm(h.grad.numpy()) for h in hiddens])\n",
        "        \n",
        "        if i % 100 == 1:\n",
        "            print(f\"Epoch: {epoch} Iter: {i}/{len(train_loader)} Loss: {loss}\")\n",
        "\n",
        "np_grads = np.array([np.array(xi) for xi in grads])\n",
        "# evaluate on the test set\n",
        "with torch.no_grad():\n",
        "    \n",
        "    correct = 0\n",
        "    for i, (x, y) in enumerate(test_loader):\n",
        "\n",
        "        hidden = rnn.init_hidden(x.shape[0])\n",
        "        seq_len = x.shape[1]\n",
        "        \n",
        "        for t in range(seq_len):\n",
        "            output, hidden = rnn(x[:, t, :], hidden)\n",
        "\n",
        "        pred = output.argmax(dim=1)\n",
        "        correct += int(sum(pred == y))\n",
        "    \n",
        "    accuracy = correct / (batch_size * len(test_loader))\n",
        "\n",
        "    print(f\"Final Accuracy: {accuracy}\")\n",
        "    assert accuracy > 0.4, \"Subject to random seed you should get over 0.4 accuracy, try changing the seed!\""
      ],
      "execution_count": 94,
      "outputs": [
        {
          "output_type": "stream",
          "text": [
            "Epoch: 0 Iter: 1/1200 Loss: 2.325571060180664\n",
            "Epoch: 0 Iter: 101/1200 Loss: 1.614290714263916\n",
            "Epoch: 0 Iter: 201/1200 Loss: 1.0623154640197754\n",
            "Epoch: 0 Iter: 301/1200 Loss: 0.9315030574798584\n",
            "Epoch: 0 Iter: 401/1200 Loss: 0.8028134703636169\n",
            "Epoch: 0 Iter: 501/1200 Loss: 0.9220730662345886\n",
            "Epoch: 0 Iter: 601/1200 Loss: 0.9503166079521179\n",
            "Epoch: 0 Iter: 701/1200 Loss: 0.7411617040634155\n",
            "Epoch: 0 Iter: 801/1200 Loss: 1.2632415294647217\n",
            "Epoch: 0 Iter: 901/1200 Loss: 1.1591308116912842\n",
            "Epoch: 0 Iter: 1001/1200 Loss: 1.3274043798446655\n",
            "Epoch: 0 Iter: 1101/1200 Loss: 1.457504153251648\n",
            "Final Accuracy: 0.4464\n"
          ],
          "name": "stdout"
        }
      ]
    },
    {
      "metadata": {
        "id": "su14TPs7cuNQ",
        "colab_type": "text"
      },
      "cell_type": "markdown",
      "source": [
        "## Zadanie 2\n",
        "Dopisz kod do powyższej pętli, który zbiera gradienty po kolejnych stanach ukrytych dla przykładu. Pokaż (za pomocą wykresu numpy) efekt zanikającego gradientu rysując średnie normy gradientu dla każdego stanu ukrytego po każdym kroku. HINT: dla MNISTa mamy 28 kroków. \n",
        "\n",
        "**Ważne:** Ponieważ normalnie w torchu czyścimy wszystkie gradienty po każdej iteracji aby je zachować w dla niektórych wag przydatna będzie metoda [`retain_grad`](https://pytorch.org/docs/stable/autograd.html#torch.Tensor.retain_grad)."
      ]
    },
    {
      "metadata": {
        "id": "ZELEOVkNcuNR",
        "colab_type": "code",
        "colab": {
          "base_uri": "https://localhost:8080/",
          "height": 287
        },
        "outputId": "38dece15-c46f-4431-90a1-206a58fae718"
      },
      "cell_type": "code",
      "source": [
        "# mean_grads in assume to be a 1D array or list of average gradients norm per timestep memory \n",
        "np_grads = np.array([np.array(xi) for xi in grads])\n",
        "mean_grads = np_grads.mean(0)\n",
        "\n",
        "plt.bar(x=np.arange(len(mean_grads)), height=mean_grads)"
      ],
      "execution_count": 95,
      "outputs": [
        {
          "output_type": "execute_result",
          "data": {
            "text/plain": [
              "<BarContainer object of 28 artists>"
            ]
          },
          "metadata": {
            "tags": []
          },
          "execution_count": 95
        },
        {
          "output_type": "display_data",
          "data": {
            "image/png": "[encoded data removed]",
            "text/plain": [
              "<Figure size 432x288 with 1 Axes>"
            ]
          },
          "metadata": {
            "tags": []
          }
        }
      ]
    },
    {
      "metadata": {
        "id": "jUCIX7secuNU",
        "colab_type": "text"
      },
      "cell_type": "markdown",
      "source": [
        "## Zadanie 3\n",
        "Ostatnim zadaniem jest implementacji komórki i sieci LSTM. \n",
        "\n",
        "![lstm](utils/lstm.png)\n",
        "\n",
        "* W klasie `LSTMCell` ma znaleźć się główna loginka LSTMa, czyli wszystkie wagi do stanów `hidden` i `cell` jak i bramek kontrolujących te stany. \n",
        "* W klasie `LSTM` powinno znaleźć się wywołanie komórki LSTM, HINT: poprzednio było w pętli uczenia, teraz przeniesiemy to do klasy modelu.\n",
        "* W pętli uczenia należy uzupełnić brakujące wywołania do uczenia i ewaluacji modelu.\n",
        "\n",
        "Zdecydowanie polecam [materiały Chrisa Olaha](http://colah.github.io/posts/2015-08-Understanding-LSTMs/) do zarówno zrozumienia jak i ściągi do wzorów.\n",
        "\n",
        "Zadaniem jest osiągnięcie dokładności na poziomie przynajmniej 90%, przy prawidłowej implementacji nie powinno być z tym problemów używając podanych hiperparametrów. Dozwolona jest oczywiście zmienia `random seed`.\n",
        "\n",
        "### Komórka LSTM"
      ]
    },
    {
      "metadata": {
        "id": "3LndKusMcuNV",
        "colab_type": "code",
        "colab": {}
      },
      "cell_type": "code",
      "source": [
        "class LSTMCell(nn.Module):\n",
        "\n",
        "    def __init__(self, \n",
        "                 input_size: int, \n",
        "                 hidden_size: int):\n",
        "        \"\"\"\n",
        "        :param input_size: int\n",
        "            Dimensionality of the input vector\n",
        "        :param hidden_size: int\n",
        "            Dimensionality of the hidden space\n",
        "        \"\"\"\n",
        "        \n",
        "        super(LSTMCell, self).__init__()\n",
        "        \n",
        "        self.input_size = input_size\n",
        "        self.hidden_size = hidden_size\n",
        "\n",
        "        # initialize LSTM weights \n",
        "        # NOTE: there are different approaches that are all correct \n",
        "        # (e.g. single matrix for all input opperations), you can pick\n",
        "        # whichever you like for this task\n",
        "        \n",
        "        self.input2hidden = torch.nn.Linear(input_size, hidden_size) \n",
        "        self.forget_gate = torch.nn.Linear(hidden_size, hidden_size)\n",
        "        self.input_gate = torch.nn.Linear(hidden_size, hidden_size)\n",
        "        self.memory_init = torch.nn.Linear(hidden_size, hidden_size)\n",
        "        self.move_to_output = torch.nn.Linear(hidden_size, hidden_size)\n",
        "        \n",
        "    def forward(self, \n",
        "                input: torch.tensor, \n",
        "                states: Tuple[torch.tensor, torch.tensor]) -> Tuple[torch.tensor, torch.tensor]:\n",
        "        \n",
        "        hidden, cell = states\n",
        "        \n",
        "        # Compute input, forget, and output gates\n",
        "        # then compute new cell state and hidden state\n",
        "        # see http://colah.github.io/posts/2015-08-Understanding-LSTMs/ \n",
        "        combined = self.input2hidden(input) + hidden\n",
        "        \n",
        "        f_t = torch.sigmoid(self.forget_gate(combined))\n",
        "        cell_prim = torch.tanh(self.memory_init(combined))\n",
        "        i_t = torch.sigmoid(self.input_gate(combined))\n",
        "        cell = f_t * cell + i_t * cell_prim\n",
        "        \n",
        "        o_t = torch.sigmoid(self.move_to_output(combined))\n",
        "        hidden = o_t * torch.tanh(cell)\n",
        "        \n",
        "        return hidden, cell"
      ],
      "execution_count": 0,
      "outputs": []
    },
    {
      "metadata": {
        "id": "CNDTL-08cuNY",
        "colab_type": "text"
      },
      "cell_type": "markdown",
      "source": [
        "### Klasa modelu LSTM"
      ]
    },
    {
      "metadata": {
        "id": "6CSICz-NcuNZ",
        "colab_type": "code",
        "colab": {}
      },
      "cell_type": "code",
      "source": [
        "class LSTM(nn.Module):\n",
        "\n",
        "    def __init__(self, \n",
        "                 input_size: int, \n",
        "                 hidden_size: int):\n",
        "        \"\"\"\n",
        "        :param input_size: int\n",
        "            Dimensionality of the input vector\n",
        "        :param hidden_size: int\n",
        "            Dimensionality of the hidden space\n",
        "        \"\"\"\n",
        "        \n",
        "        super(LSTM, self).__init__()\n",
        "        \n",
        "        self.input_size = input_size\n",
        "        self.hidden_size = hidden_size\n",
        "        self.output_size = 10\n",
        "\n",
        "        self.cell = LSTMCell(input_size=input_size, hidden_size=hidden_size)\n",
        "        \n",
        "        \n",
        "    def forward(self, \n",
        "                input: torch.tensor) -> Tuple[torch.tensor, torch.tensor]:\n",
        "        \"\"\"\n",
        "        :param input: torch.tensor \n",
        "            Input tesnor for a single observation at timestep t\n",
        "            shape [batch_size, input_size]\n",
        "        Returns Tuple of two torch.tensors, both of shape [seq_len, batch_size, hidden_size]\n",
        "        \"\"\"\n",
        "        \n",
        "        batch_size = input.shape[0]\n",
        "        \n",
        "        initial_states = self.init_hidden_cell(batch_size)\n",
        "        \n",
        "        hiddens = []\n",
        "        cells = []\n",
        "        \n",
        "        hidden, cell = initial_states\n",
        "\n",
        "        # this time we will process the whole sequence in the forward method\n",
        "        # as oppose to the previous exercise, remember to loop over the timesteps\n",
        "        \n",
        "        seq_len = input.shape[1]\n",
        "        \n",
        "        for t in range(seq_len):\n",
        "            hidden, cell = self.cell(input[:,t,:], (hidden, cell))\n",
        "            hiddens.append(hidden)\n",
        "            cells.append(cell)\n",
        "        \n",
        "        hiddens = torch.stack(hiddens)\n",
        "        \n",
        "        cells = torch.stack(cells)\n",
        "        \n",
        "        return hiddens, cells\n",
        "    \n",
        "    def init_hidden_cell(self, batch_size):\n",
        "        \"\"\"\n",
        "        Returns initial value for the hidden and cell states\n",
        "        \"\"\"\n",
        "        return (torch.zeros(batch_size, self.hidden_size, requires_grad=True), \n",
        "                torch.zeros(batch_size, self.hidden_size, requires_grad=True))"
      ],
      "execution_count": 0,
      "outputs": []
    },
    {
      "metadata": {
        "id": "evG6WcG8cuNd",
        "colab_type": "text"
      },
      "cell_type": "markdown",
      "source": [
        "### Pętla uczenia"
      ]
    },
    {
      "metadata": {
        "id": "hOav2TA5cuNe",
        "colab_type": "code",
        "colab": {
          "base_uri": "https://localhost:8080/",
          "height": 472
        },
        "outputId": "294ea4d3-3626-40f5-ae59-987b4f345533"
      },
      "cell_type": "code",
      "source": [
        "from itertools import chain\n",
        "\n",
        "torch.manual_seed(1337)\n",
        "\n",
        "batch_size = 50\n",
        "\n",
        "# build data loaders\n",
        "train_loader = torch.utils.data.DataLoader(dataset=train_data, batch_size=batch_size, shuffle=True)\n",
        "test_loader = torch.utils.data.DataLoader(dataset=test_data, batch_size=batch_size, shuffle=False)\n",
        "\n",
        "# initialize the lstm with an additional cliassifier layer at the top\n",
        "lstm = LSTM(input_size=28, hidden_size=64)\n",
        "clf = nn.Linear(in_features=64, out_features=10)\n",
        "\n",
        "# initialize a optimizer\n",
        "params = chain(lstm.parameters(), clf.parameters())\n",
        "optimizer = torch.optim.Adam(params, lr=0.01) \n",
        "\n",
        "# we will train for only a single epoch \n",
        "epoch = 1\n",
        "\n",
        "# main loop\n",
        "for epoch in range(epoch):\n",
        "    \n",
        "    for i, (x, y) in enumerate(train_loader):        \n",
        "        \n",
        "        optimizer.zero_grad()\n",
        "        \n",
        "        # get output for the sample, remember that we treat it as a sequence\n",
        "        # so you need to iterate over the sequence length here\n",
        "        hiddens, cells = lstm(x)\n",
        "        outputs = clf(hiddens)\n",
        "        output = outputs[-1]\n",
        "        # calucate the loss\n",
        "        loss = cross_entropy(output, y)\n",
        "        loss.backward()\n",
        "        optimizer.step()                                \n",
        "        \n",
        "        if i % 50 == 1:\n",
        "            print(f\"Epoch: {epoch} Iter: {i}/{len(train_loader)} Loss: {loss:.4f}\")\n",
        "\n",
        "# evaluate on the test set\n",
        "with torch.no_grad():\n",
        "    \n",
        "    correct = 0\n",
        "    for i, (x, y) in enumerate(test_loader):\n",
        "        \n",
        "        hiddens, cells = lstm(x)\n",
        "        outputs = clf(hiddens)\n",
        "        output = outputs[-1]\n",
        "        \n",
        "        pred = output.argmax(dim=1)\n",
        "        correct += int(sum(pred == y))\n",
        "    \n",
        "    accuracy = correct / (batch_size * len(test_loader))\n",
        "    \n",
        "    print(f\"Final Accuracy: {accuracy}\")\n",
        "    assert accuracy > 0.9, \"Subject to random seed you should get over 0.9 accuracy, try changing the seed!\""
      ],
      "execution_count": 89,
      "outputs": [
        {
          "output_type": "stream",
          "text": [
            "Epoch: 0 Iter: 1/1200 Loss: 2.3013\n",
            "Epoch: 0 Iter: 51/1200 Loss: 1.1511\n",
            "Epoch: 0 Iter: 101/1200 Loss: 0.7476\n",
            "Epoch: 0 Iter: 151/1200 Loss: 0.7537\n",
            "Epoch: 0 Iter: 201/1200 Loss: 0.8660\n",
            "Epoch: 0 Iter: 251/1200 Loss: 0.5561\n",
            "Epoch: 0 Iter: 301/1200 Loss: 0.3881\n",
            "Epoch: 0 Iter: 351/1200 Loss: 0.7335\n",
            "Epoch: 0 Iter: 401/1200 Loss: 0.3890\n",
            "Epoch: 0 Iter: 451/1200 Loss: 0.4592\n",
            "Epoch: 0 Iter: 501/1200 Loss: 0.5516\n",
            "Epoch: 0 Iter: 551/1200 Loss: 0.1947\n",
            "Epoch: 0 Iter: 601/1200 Loss: 0.3314\n",
            "Epoch: 0 Iter: 651/1200 Loss: 0.4704\n",
            "Epoch: 0 Iter: 701/1200 Loss: 0.1694\n",
            "Epoch: 0 Iter: 751/1200 Loss: 0.2559\n",
            "Epoch: 0 Iter: 801/1200 Loss: 0.2559\n",
            "Epoch: 0 Iter: 851/1200 Loss: 0.1106\n",
            "Epoch: 0 Iter: 901/1200 Loss: 0.3667\n",
            "Epoch: 0 Iter: 951/1200 Loss: 0.2223\n",
            "Epoch: 0 Iter: 1001/1200 Loss: 0.2610\n",
            "Epoch: 0 Iter: 1051/1200 Loss: 0.1287\n",
            "Epoch: 0 Iter: 1101/1200 Loss: 0.3183\n",
            "Epoch: 0 Iter: 1151/1200 Loss: 0.1378\n",
            "Final Accuracy: 0.9376\n"
          ],
          "name": "stdout"
        }
      ]
    }
  ]
}