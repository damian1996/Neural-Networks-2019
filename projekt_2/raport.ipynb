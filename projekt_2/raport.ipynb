{
 "cells": [
  {
   "cell_type": "markdown",
   "metadata": {
    "colab_type": "text",
    "id": "NlB7Qu_kWt8P"
   },
   "source": [
    "Przetwarzanie Danych\n",
    "==========="
   ]
  },
  {
   "cell_type": "markdown",
   "metadata": {
    "colab_type": "text",
    "id": "r79_qxOrk3L0"
   },
   "source": [
    "W celu przetwarzania danych wykorzystałem kod z kernela helpers udostępnionego na Kagglu.\n",
    "Jedyną zmianą jakiej dokonałem było dodanie poniższej linijki w celu przejścia do skali logarytmicznej na melspectrogramie (decybele). Pozwoliło to uzyskać wyniki średnio wyniki lepsze o 3-4%.\n",
    "\n"
   ]
  },
  {
   "cell_type": "code",
   "execution_count": null,
   "metadata": {
    "colab": {},
    "colab_type": "code",
    "id": "GVzim6ehk54G"
   },
   "outputs": [],
   "source": [
    "log_spec = librosa.core.power_to_db(spectrogram, ref=np.median)"
   ]
  },
  {
   "cell_type": "markdown",
   "metadata": {
    "colab_type": "text",
    "id": "UArv7BU3Wu5I"
   },
   "source": [
    "Architektura\n",
    "========="
   ]
  },
  {
   "cell_type": "markdown",
   "metadata": {
    "colab_type": "text",
    "id": "Xf4srwTyWvAj"
   },
   "source": [
    "Moje rozwiązanie problemu detekcji ptaków na nagraniach, wykorzystuje konwolucyjne sieci neuronowe. \n",
    "Konkretniej sieć składającą się z 3 warstw konwolucyjnych oraz dwóch warstw liniowych. \n",
    "Warswy konwolucyjne miały kolejno 16, 32 oraz 32 filtry, a także kernele rozmiarów 3x3, 3x3 oraz 2x2. Reszta szczegołów w notatniku FinalModel."
   ]
  },
  {
   "cell_type": "markdown",
   "metadata": {
    "colab_type": "text",
    "id": "iLCcNI9QcZRn"
   },
   "source": [
    "Inne metody\n",
    "==========="
   ]
  },
  {
   "cell_type": "markdown",
   "metadata": {
    "colab_type": "text",
    "id": "a5hW-qAxcrSR"
   },
   "source": [
    "W rozwiązaniu wykorzystałem ensambling. Finalnie użyłem 10 modeli (ta sama architektura, ale inne wagi), które uzyskiwały najlepsze wyniki na zbiorze walidacyjnym. A następnie uśredniłem ich predykcje co pozwoliło uzyskać na kagglu wynik na poziomie ~0.94 (Pojedyncze modele miały wyniki między 0.91 a 0.93 na zbiorze walidacyjnym)."
   ]
  },
  {
   "cell_type": "markdown",
   "metadata": {
    "colab_type": "text",
    "id": "wGODtR5cW3If"
   },
   "source": [
    "Generator predykcji\n",
    "==========="
   ]
  },
  {
   "cell_type": "code",
   "execution_count": 7,
   "metadata": {},
   "outputs": [],
   "source": [
    "import os\n",
    "os.chdir('.')\n",
    "from models import *"
   ]
  },
  {
   "cell_type": "code",
   "execution_count": null,
   "metadata": {},
   "outputs": [],
   "source": [
    "paths = []\n",
    "for i in range(1,11):\n",
    "    paths.append('saved_model/saved{}.pkl'.format(i))\n",
    "\n",
    "n_models = 10\n",
    "pretrained = [True] * n_models\n",
    "models = [CNN_Wrapper(i+1, pretrained[i], paths[i]) for i in range(n_models)]"
   ]
  },
  {
   "cell_type": "code",
   "execution_count": 14,
   "metadata": {
    "colab": {},
    "colab_type": "code",
    "id": "g2Lv4ifFW3mH"
   },
   "outputs": [],
   "source": [
    "X_test_d = np.load('test_data.pkl.npy')\n",
    "\n",
    "vot_clf = VotingClassifier(models)"
   ]
  },
  {
   "cell_type": "code",
   "execution_count": null,
   "metadata": {},
   "outputs": [],
   "source": [
    "vot_clf.fit(None, None)"
   ]
  },
  {
   "cell_type": "code",
   "execution_count": null,
   "metadata": {},
   "outputs": [],
   "source": [
    "labels = vot_clf.predict(X_test_d)"
   ]
  },
  {
   "cell_type": "code",
   "execution_count": null,
   "metadata": {},
   "outputs": [],
   "source": [
    "final_labels = vot_clf.voting(labels)"
   ]
  }
 ],
 "metadata": {
  "colab": {
   "collapsed_sections": [],
   "name": "raport.ipynb",
   "provenance": [],
   "version": "0.3.2"
  },
  "kernelspec": {
   "display_name": "Python 3",
   "language": "python",
   "name": "python3"
  },
  "language_info": {
   "codemirror_mode": {
    "name": "ipython",
    "version": 3
   },
   "file_extension": ".py",
   "mimetype": "text/x-python",
   "name": "python",
   "nbconvert_exporter": "python",
   "pygments_lexer": "ipython3",
   "version": "3.6.6"
  }
 },
 "nbformat": 4,
 "nbformat_minor": 2
}
