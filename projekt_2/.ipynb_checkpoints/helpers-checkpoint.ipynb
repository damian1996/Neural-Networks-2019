{
 "cells": [
  {
   "cell_type": "code",
   "execution_count": null,
   "metadata": {},
   "outputs": [
    {
     "name": "stdout",
     "output_type": "stream",
     "text": [
      "Solving environment: | "
     ]
    }
   ],
   "source": [
    "!conda install -c conda-forge -y librosa\n",
    "!conda install -c conda-forge -y tqdm"
   ]
  },
  {
   "cell_type": "code",
   "execution_count": null,
   "metadata": {},
   "outputs": [],
   "source": [
    "import os\n",
    "\n",
    "import librosa\n",
    "from scipy import signal\n",
    "from scipy.io import wavfile\n",
    "from sklearn.metrics import roc_auc_score\n",
    "import numpy as np\n",
    "import torch\n",
    "from torch.utils.data import TensorDataset, DataLoader\n",
    "from tqdm import tqdm, trange"
   ]
  },
  {
   "cell_type": "code",
   "execution_count": null,
   "metadata": {},
   "outputs": [],
   "source": [
    "import matplotlib.pyplot as plt\n",
    "import matplotlib\n",
    "import librosa.display\n",
    "matplotlib.use('Agg') # No pictures displayed \n",
    "%matplotlib inline\n",
    "\n",
    "def load_mel(file_name, start=0, stop=None, n_mels=60):\n",
    "    samples, sample_rate = librosa.core.load(file_name, sr = None)\n",
    "    samples = samples[int(start * sample_rate):int(stop * sample_rate) if stop else None]\n",
    "    spectrogram = librosa.feature.melspectrogram(y = samples, sr = sample_rate,\n",
    "                                                 n_mels = n_mels, fmin = 4000, fmax = 9500)\n",
    "    if start == 0:\n",
    "        print(spectrogram.shape)\n",
    "    return spectrogram\n",
    "\n",
    "\n",
    "def load_spec(file_name, start=0, stop=None):\n",
    "    sample_rate, samples = wavfile.read(file_name)\n",
    "    samples = samples[int(start * sample_rate):int(stop * sample_rate) if stop else None]\n",
    "    _, _, spectrogram = signal.spectrogram(samples, sample_rate)\n",
    "    return spectrogram\n",
    "\n",
    "\n",
    "def load_test(load_repr=load_mel):\n",
    "    with open('sampleSubmission.csv', 'r') as file:\n",
    "        lines = file.read().split()[1:]\n",
    "        sample_ids = [line.split(',')[0] for line in lines]\n",
    "        samples = np.array([s.split('/') for s in sample_ids])\n",
    "    \n",
    "    X_test = []\n",
    "    rec_files = [file_name for file_name in os.listdir('test') if file_name.endswith('.wav')]\n",
    "    for file_name in rec_files:\n",
    "        recording_id = file_name.split('.')[0][3:]\n",
    "        time_markers = samples[samples[:, 0] == recording_id, 1].astype(np.int)\n",
    "        for t in time_markers:\n",
    "            representation = load_repr(os.path.join('test', file_name), start = t, stop = t + 1)\n",
    "            X_test.append(representation)\n",
    "    return np.array(X_test)\n",
    "\n",
    "\n",
    "def read_labels():\n",
    "    labels = []\n",
    "    with open(os.path.join('train', 'labels.txt'), 'r') as file:\n",
    "        text = file.read()\n",
    "        for line in text.split('\\n')[1:]:\n",
    "            if len(line) > 1:\n",
    "                rec, start, stop = line.split(',')\n",
    "                rec, start, stop = int(rec[3:]), float(start), float(stop)\n",
    "                labels.append([rec, start, stop])\n",
    "    return np.array(labels)\n",
    "\n",
    "\n",
    "def check_voices(second, labels, tol=0.):\n",
    "    return (labels[1] >= second and labels[1] < second + 1 - tol) or \\\n",
    "           (labels[2] < second + 1 and labels[2] > second + tol) or \\\n",
    "           (labels[1] < second and labels[2] > second + 1)\n",
    "\n",
    "\n",
    "def map_seconds_to_y(labels):\n",
    "    y = [0] * 10\n",
    "    y_restrictive = [0] * 10\n",
    "    for s in range(10):\n",
    "        for l in labels:\n",
    "            if check_voices(s, l):\n",
    "                y[s] = 1\n",
    "            if check_voices(s, l, 0.02):\n",
    "                y_restrictive[s] = 1\n",
    "        if y[s] != y_restrictive[s]:\n",
    "            y[s] = -1\n",
    "    return y\n",
    "\n",
    "\n",
    "def load_train(load_repr=load_mel):\n",
    "    labels = read_labels()\n",
    "    X_train, y_train = [], []\n",
    "    rec_files = [file_name for file_name in os.listdir('train') if file_name.endswith('.wav')]\n",
    "    for file_name in rec_files:\n",
    "        recording_id = int(file_name.split('.')[0][3:])\n",
    "        recording_labels = labels[labels[:, 0] == recording_id]\n",
    "        y_binary = map_seconds_to_y(recording_labels)\n",
    "        for i, y in enumerate(y_binary):\n",
    "            if y != -1:\n",
    "                try:\n",
    "                    representation = load_repr(os.path.join('train', file_name), start = i, stop = i + 1)\n",
    "                    X_train.append(representation)\n",
    "                    y_train.append(y)\n",
    "                except ValueError:\n",
    "                    print('Error reading file', file_name)\n",
    "                except TypeError:\n",
    "                    print('Unsupported type', file_name)\n",
    "    return np.array(X_train), np.array(y_train)"
   ]
  },
  {
   "cell_type": "code",
   "execution_count": null,
   "metadata": {},
   "outputs": [],
   "source": [
    "# Poniższa linijka ustawia folder główny\n",
    "os.chdir('.')\n",
    "\n",
    "X_test = load_test()\n",
    "# np.save(os.path.join('test', 'tmp_X_test'), X_test)\n",
    "\n",
    "X, y = load_train()\n",
    "# np.save(os.path.join('train', 'tmp_X_train'), X)\n",
    "# np.save(os.path.join('train', 'tmp_y_train'), y)"
   ]
  },
  {
   "cell_type": "code",
   "execution_count": null,
   "metadata": {},
   "outputs": [],
   "source": []
  },
  {
   "cell_type": "code",
   "execution_count": 42,
   "metadata": {},
   "outputs": [],
   "source": [
    "import torch\n",
    "import torch.nn as nn\n",
    "\n",
    "class ConvNet(nn.Module):\n",
    "    def __init__(self, num_classes=10):\n",
    "        super(ConvNet, self).__init__()\n",
    "        self.layer1 = nn.Sequential(\n",
    "            nn.Conv2d(1, 16, kernel_size=5, stride=1, padding=2),\n",
    "            nn.BatchNorm2d(16),\n",
    "            nn.ReLU(),\n",
    "            nn.MaxPool2d(kernel_size=2, stride=2))\n",
    "        self.layer2 = nn.Sequential(\n",
    "            nn.Conv2d(16, 32, kernel_size=5, stride=1, padding=2),\n",
    "            nn.BatchNorm2d(32),\n",
    "            nn.ReLU(),\n",
    "            nn.MaxPool2d(kernel_size=2, stride=2))\n",
    "        self.layer3 = nn.Sequential(\n",
    "            nn.Conv2d(32, 32, kernel_size=5, stride=1, padding=2),\n",
    "            nn.BatchNorm2d(32),\n",
    "            nn.ReLU(),\n",
    "            nn.MaxPool2d(kernel_size=2, stride=2))\n",
    "        #torch.Size([51, 1, 60, 87])\n",
    "        #torch.Size([51, 16, 30, 43])\n",
    "        #torch.Size([51, 32, 15, 21])\n",
    "        #torch.Size([40, 32, 7, 10])\n",
    "        self.fc = nn.Linear(7*10*32, num_classes)\n",
    "        \n",
    "    def forward(self, x):\n",
    "        x = torch.unsqueeze(x, 1)\n",
    "        #print(\"Sample\")\n",
    "        #print(x.shape)\n",
    "        out = self.layer1(x)\n",
    "        #print(out.shape)\n",
    "        out = self.layer2(out)\n",
    "        #print(out.shape)\n",
    "        out = self.layer3(out)\n",
    "        #print(out.shape)\n",
    "        out = out.reshape(out.size(0), -1)\n",
    "        out = self.fc(out)\n",
    "        return out"
   ]
  },
  {
   "cell_type": "code",
   "execution_count": 43,
   "metadata": {},
   "outputs": [],
   "source": [
    "class Detector(torch.nn.Module):\n",
    "    \n",
    "    def __init__(self):\n",
    "        super().__init__()\n",
    "        self.linear = torch.nn.Linear(60 * 87, 2)\n",
    "    \n",
    "    def forward(self, x):\n",
    "        out = torch.flatten(x, start_dim = 1)\n",
    "        out = self.linear(out)\n",
    "        return out"
   ]
  },
  {
   "cell_type": "code",
   "execution_count": 44,
   "metadata": {},
   "outputs": [],
   "source": [
    "clf = ConvNet()   \n",
    "#clf = Detector()"
   ]
  },
  {
   "cell_type": "code",
   "execution_count": 45,
   "metadata": {},
   "outputs": [],
   "source": [
    "# Dzielenie zbioru danych na treningowy i walidacyjny\n",
    "split_point = int(len(X) * 0.8)\n",
    "\n",
    "X_train = torch.Tensor(X[:split_point])\n",
    "y_train = torch.LongTensor(y[:split_point])\n",
    "\n",
    "X_valid = torch.Tensor(X[split_point:])\n",
    "y_valid = torch.LongTensor(y[split_point:])\n",
    "\n",
    "batch_size = 64\n",
    "\n",
    "dataset = TensorDataset(X_train, y_train)\n",
    "data_loader = DataLoader(dataset, batch_size = batch_size, shuffle = True)\n",
    "\n",
    "valid_dataset = TensorDataset(X_valid, y_valid)\n",
    "valid_data_loader = DataLoader(valid_dataset, batch_size = batch_size)"
   ]
  },
  {
   "cell_type": "code",
   "execution_count": 48,
   "metadata": {},
   "outputs": [
    {
     "name": "stderr",
     "output_type": "stream",
     "text": [
      "100%|██████████| 10/10 [04:23<00:00, 24.37s/it]\n"
     ]
    }
   ],
   "source": [
    "# Ustawienie kosztu i optimizera\n",
    "criterion = torch.nn.CrossEntropyLoss()\n",
    "optimizer = torch.optim.Adam(clf.parameters())\n",
    "\n",
    "# Pętla uczenia\n",
    "best_preds, best_score = None, 0.\n",
    "losses, scores = [], []\n",
    "for epoch in trange(10):\n",
    "    running_loss = 0\n",
    "    clf.train()\n",
    "    for X, y in data_loader:\n",
    "        optimizer.zero_grad()\n",
    "\n",
    "        outputs = clf(X)\n",
    "        loss = criterion(outputs, y)\n",
    "        loss.backward()\n",
    "        optimizer.step()\n",
    "        \n",
    "        running_loss += loss.item()\n",
    "        \n",
    "    losses.append(running_loss)\n",
    "    \n",
    "    clf.eval()\n",
    "    preds = []\n",
    "    for X, _ in valid_data_loader:\n",
    "        out = clf(X)\n",
    "        preds.append(torch.softmax(out, dim = 1)[:, 1].detach().numpy())\n",
    "    preds = np.concatenate(preds, axis = 0)\n",
    "    \n",
    "    # Metryką testującą jest ROC AUC\n",
    "    score = roc_auc_score(y_valid.numpy(), preds)\n",
    "    scores.append(score)\n",
    "    if score > best_score:\n",
    "        best_score = score\n",
    "        best_preds = preds\n",
    "        # np.save('tmp_preds', best_preds)\n",
    "        \n",
    "        # Model dający najlepszy wynik powinien być zapisany\n",
    "        # torch.save(clf.state_dict(), 'tmp_model.pt')"
   ]
  },
  {
   "cell_type": "code",
   "execution_count": 49,
   "metadata": {},
   "outputs": [
    {
     "data": {
      "image/png": "[encoded data removed]",
      "text/plain": [
       "<Figure size 432x288 with 1 Axes>"
      ]
     },
     "metadata": {
      "needs_background": "light"
     },
     "output_type": "display_data"
    },
    {
     "data": {
      "image/png": "[encoded data removed]",
      "text/plain": [
       "<Figure size 432x288 with 1 Axes>"
      ]
     },
     "metadata": {
      "needs_background": "light"
     },
     "output_type": "display_data"
    }
   ],
   "source": [
    "# Rysowanie lossu i AUC\n",
    "\n",
    "import matplotlib.pyplot as plt\n",
    "\n",
    "%matplotlib inline\n",
    "\n",
    "plt.plot(scores)\n",
    "plt.show()\n",
    "\n",
    "plt.plot(losses)\n",
    "plt.show()"
   ]
  },
  {
   "cell_type": "code",
   "execution_count": 50,
   "metadata": {},
   "outputs": [],
   "source": [
    "def save_predictions(preds):\n",
    "    '''Zapisuje predykcje do pliku zgodnego z formatem odpowiedzi.\n",
    "    \n",
    "    Args:\n",
    "        preds (list): Lista predykcji (prawdopodobieństw).\n",
    "    '''\n",
    "    with open('sampleSubmission.csv', 'r') as file:\n",
    "        submission_text = file.read().split()\n",
    "        header = submission_text[0]\n",
    "        lines = submission_text[1:]\n",
    "\n",
    "    output_lines = [header]\n",
    "    for pred, line in zip(preds, lines):\n",
    "        output_lines.append(\"{},{}\".format(line.split(',')[0], pred))\n",
    "    \n",
    "    with open('mySubmission.csv', 'w') as file:\n",
    "        file.write('\\n'.join(output_lines) + '\\n')\n",
    "# Wczytanie najlepszego modelu\n",
    "# clf.load_state_dict('tmp_model.pt')\n",
    "\n",
    "# Tworzenie data loadera testowego\n",
    "X_test_tensor = torch.Tensor(X_test)\n",
    "\n",
    "test_dataset = TensorDataset(X_test_tensor)\n",
    "test_data_loader = DataLoader(test_dataset, batch_size = batch_size)\n",
    "\n",
    "# Ewaluacja modelu na danych testowych\n",
    "clf.eval()\n",
    "preds = []\n",
    "for X in test_data_loader:\n",
    "    out = clf(X[0])\n",
    "    preds.append(torch.softmax(out, dim = 1)[:, 1].detach().numpy())\n",
    "preds = np.concatenate(preds, axis = 0)\n",
    "\n",
    "# Zapisanie predykcji do poprawnego formatu\n",
    "# save_predictions(preds)"
   ]
  },
  {
   "cell_type": "code",
   "execution_count": null,
   "metadata": {},
   "outputs": [],
   "source": []
  }
 ],
 "metadata": {
  "kernelspec": {
   "display_name": "Python 3",
   "language": "python",
   "name": "python3"
  },
  "language_info": {
   "codemirror_mode": {
    "name": "ipython",
    "version": 3
   },
   "file_extension": ".py",
   "mimetype": "text/x-python",
   "name": "python",
   "nbconvert_exporter": "python",
   "pygments_lexer": "ipython3",
   "version": "3.6.6"
  }
 },
 "nbformat": 4,
 "nbformat_minor": 2
}
